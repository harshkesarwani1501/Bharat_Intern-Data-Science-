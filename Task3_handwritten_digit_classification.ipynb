{
  "metadata": {
    "kernelspec": {
      "language": "python",
      "display_name": "Python 3",
      "name": "python3"
    },
    "language_info": {
      "pygments_lexer": "ipython3",
      "nbconvert_exporter": "python",
      "version": "3.6.4",
      "file_extension": ".py",
      "codemirror_mode": {
        "name": "ipython",
        "version": 3
      },
      "name": "python",
      "mimetype": "text/x-python"
    },
    "colab": {
      "provenance": []
    }
  },
  "nbformat_minor": 0,
  "nbformat": 4,
  "cells": [
    {
      "cell_type": "markdown",
      "source": [
        "Author: Harsh Kesarwani"
      ],
      "metadata": {
        "id": "yMPbZu2KEdst"
      }
    },
    {
      "cell_type": "markdown",
      "source": [
        "Number Recognition :\n",
        "Handwritten digit recognition system not only detects\n",
        "scanned images of handwritten digits.Handwritten digit\n",
        "recognition using MNIST dataset is a major project made\n",
        "with the help of Neural Network. It basically detects\n",
        "the scanned images of handwritten digits"
      ],
      "metadata": {
        "id": "llAZpZ9mEj_I"
      }
    },
    {
      "cell_type": "markdown",
      "source": [
        "<h3 style=\"color:orange\">Load Necessary Library</h3>\n"
      ],
      "metadata": {
        "id": "xwWY5UgfEYtz"
      }
    },
    {
      "cell_type": "code",
      "source": [
        "import numpy as np # linear algebra\n",
        "import pandas as pd # data processing, CSV file I/O (e.g. pd.read_csv)\n",
        "\n",
        "import seaborn as sns\n",
        "import matplotlib.pyplot as plt\n",
        "\n",
        "import tensorflow as tf\n",
        "from tensorflow.keras import datasets, layers, models\n",
        "\n",
        "from sklearn.metrics import classification_report\n",
        "\n",
        "# setting a random seed to reproduce results\n",
        "seed=4\n",
        "tf.random.set_seed(4)"
      ],
      "metadata": {
        "execution": {
          "iopub.status.busy": "2022-11-24T12:31:38.788093Z",
          "iopub.execute_input": "2022-11-24T12:31:38.788764Z",
          "iopub.status.idle": "2022-11-24T12:31:48.816413Z",
          "shell.execute_reply.started": "2022-11-24T12:31:38.788642Z",
          "shell.execute_reply": "2022-11-24T12:31:48.814068Z"
        },
        "trusted": true,
        "id": "Gan7UsEAEYt2"
      },
      "execution_count": null,
      "outputs": []
    },
    {
      "cell_type": "markdown",
      "source": [
        "## Data Collection\n",
        "\n",
        "### Load the mnist datasets"
      ],
      "metadata": {
        "id": "lDoDRtW3EYt3"
      }
    },
    {
      "cell_type": "code",
      "source": [
        "mnist = tf.keras.datasets.mnist\n",
        "\n",
        "(X_train, Y_train), (X_test, Y_test) = mnist.load_data()\n",
        "\n",
        "X_train = np.concatenate((X_train, X_test))\n",
        "y_train = np.concatenate((Y_train, Y_test))\n",
        "y_train = y_train.astype(int)\n",
        "\n",
        "X_train.shape, y_train.shape"
      ],
      "metadata": {
        "execution": {
          "iopub.status.busy": "2022-11-24T12:31:48.819473Z",
          "iopub.execute_input": "2022-11-24T12:31:48.820618Z",
          "iopub.status.idle": "2022-11-24T12:31:49.355186Z",
          "shell.execute_reply.started": "2022-11-24T12:31:48.820553Z",
          "shell.execute_reply": "2022-11-24T12:31:49.353827Z"
        },
        "trusted": true,
        "id": "yrd6OJd1EYt3"
      },
      "execution_count": null,
      "outputs": []
    },
    {
      "cell_type": "markdown",
      "source": [
        "### Read the given kaggle datasets"
      ],
      "metadata": {
        "id": "LGs1FJJ2EYt3"
      }
    },
    {
      "cell_type": "code",
      "source": [
        "valid = pd.read_csv('/kaggle/input/digit-recognizer/train.csv')\n",
        "test = pd.read_csv('/kaggle/input/digit-recognizer/test.csv')\n",
        "valid.shape, test.shape"
      ],
      "metadata": {
        "execution": {
          "iopub.status.busy": "2022-11-24T12:31:49.361945Z",
          "iopub.execute_input": "2022-11-24T12:31:49.362421Z",
          "iopub.status.idle": "2022-11-24T12:31:56.143412Z",
          "shell.execute_reply.started": "2022-11-24T12:31:49.362378Z",
          "shell.execute_reply": "2022-11-24T12:31:56.141787Z"
        },
        "trusted": true,
        "id": "ug0gABSEEYt3"
      },
      "execution_count": null,
      "outputs": []
    },
    {
      "cell_type": "markdown",
      "source": [
        "## Data Preprocessing"
      ],
      "metadata": {
        "id": "V9RL5_UkEYt4"
      }
    },
    {
      "cell_type": "code",
      "source": [
        "y_validation = valid.label.values\n",
        "x_validation = valid.drop('label', axis = 1).values"
      ],
      "metadata": {
        "execution": {
          "iopub.status.busy": "2022-11-24T12:31:56.145513Z",
          "iopub.execute_input": "2022-11-24T12:31:56.146131Z",
          "iopub.status.idle": "2022-11-24T12:31:56.347969Z",
          "shell.execute_reply.started": "2022-11-24T12:31:56.146071Z",
          "shell.execute_reply": "2022-11-24T12:31:56.346634Z"
        },
        "trusted": true,
        "id": "_LruUWwQEYt4"
      },
      "execution_count": null,
      "outputs": []
    },
    {
      "cell_type": "markdown",
      "source": [
        "### Reshape the features to 28 X 28 shape"
      ],
      "metadata": {
        "id": "msqkAgGIEYt4"
      }
    },
    {
      "cell_type": "code",
      "source": [
        "x_train = X_train.reshape(X_train.shape[0], 28,28)\n",
        "x_validation = x_validation.reshape(x_validation.shape[0],28,28)\n",
        "x_test = test.values.reshape(test.shape[0], 28,28)\n",
        "\n",
        "x_train.shape, y_train.shape, x_validation.shape, y_validation.shape,  x_test.shape"
      ],
      "metadata": {
        "execution": {
          "iopub.status.busy": "2022-11-24T12:31:56.349724Z",
          "iopub.execute_input": "2022-11-24T12:31:56.350168Z",
          "iopub.status.idle": "2022-11-24T12:31:56.362319Z",
          "shell.execute_reply.started": "2022-11-24T12:31:56.350127Z",
          "shell.execute_reply": "2022-11-24T12:31:56.360930Z"
        },
        "trusted": true,
        "id": "vuqlidkPEYt4"
      },
      "execution_count": null,
      "outputs": []
    },
    {
      "cell_type": "markdown",
      "source": [
        "### Plot the first 50 digit with their actual label"
      ],
      "metadata": {
        "id": "Zb_qN0ooEYt4"
      }
    },
    {
      "cell_type": "code",
      "source": [
        "plt.figure(figsize=(20,7), dpi = 523)\n",
        "for i in range(30):\n",
        "    plt.subplot(3,10,i+1)\n",
        "    plt.xticks([])\n",
        "    plt.yticks([])\n",
        "    plt.grid(True)\n",
        "    plt.imshow(x_train[i], cmap=plt.cm.binary)\n",
        "    plt.xlabel(y_train[i])                   # Adding label as the value of handwritten digit\n",
        "plt.show()"
      ],
      "metadata": {
        "execution": {
          "iopub.status.busy": "2022-11-24T12:31:56.364461Z",
          "iopub.execute_input": "2022-11-24T12:31:56.365172Z",
          "iopub.status.idle": "2022-11-24T12:32:00.953471Z",
          "shell.execute_reply.started": "2022-11-24T12:31:56.365100Z",
          "shell.execute_reply": "2022-11-24T12:32:00.952390Z"
        },
        "trusted": true,
        "id": "oN6hzdkfEYt4"
      },
      "execution_count": null,
      "outputs": []
    },
    {
      "cell_type": "markdown",
      "source": [
        "#### Add a channels dimension"
      ],
      "metadata": {
        "id": "5ZqG-VpMEYt4"
      }
    },
    {
      "cell_type": "code",
      "source": [
        "x_train = x_train.reshape(-1,28,28,1)\n",
        "x_valid = x_validation.reshape(-1,28,28,1)\n",
        "x_test  = x_test.reshape(-1,28,28,1)\n",
        "\n",
        "print('Train Data shape      :',x_train.shape)\n",
        "print('Validation Data shape :',x_valid.shape)\n",
        "print('Test Data shape       :',x_test.shape)"
      ],
      "metadata": {
        "execution": {
          "iopub.status.busy": "2022-11-24T12:32:00.954666Z",
          "iopub.execute_input": "2022-11-24T12:32:00.955130Z",
          "iopub.status.idle": "2022-11-24T12:32:00.966579Z",
          "shell.execute_reply.started": "2022-11-24T12:32:00.955081Z",
          "shell.execute_reply": "2022-11-24T12:32:00.964129Z"
        },
        "trusted": true,
        "id": "b5NzlsbcEYt5"
      },
      "execution_count": null,
      "outputs": []
    },
    {
      "cell_type": "markdown",
      "source": [
        "#### Scalling the value for better accuracy"
      ],
      "metadata": {
        "execution": {
          "iopub.status.busy": "2022-10-22T08:06:25.920455Z",
          "iopub.execute_input": "2022-10-22T08:06:25.921865Z",
          "iopub.status.idle": "2022-10-22T08:06:26.025187Z",
          "shell.execute_reply.started": "2022-10-22T08:06:25.921807Z",
          "shell.execute_reply": "2022-10-22T08:06:26.023972Z"
        },
        "id": "GQCilallEYt5"
      }
    },
    {
      "cell_type": "code",
      "source": [
        "x_train, x_valid, x_test = x_train / 255, x_valid / 255, x_test / 255"
      ],
      "metadata": {
        "execution": {
          "iopub.status.busy": "2022-11-24T12:32:00.969579Z",
          "iopub.execute_input": "2022-11-24T12:32:00.970141Z",
          "iopub.status.idle": "2022-11-24T12:32:01.615841Z",
          "shell.execute_reply.started": "2022-11-24T12:32:00.970050Z",
          "shell.execute_reply": "2022-11-24T12:32:01.614014Z"
        },
        "trusted": true,
        "id": "gxHs62rPEYt5"
      },
      "execution_count": null,
      "outputs": []
    },
    {
      "cell_type": "code",
      "source": [
        "# One hot-encoding the labels\n",
        "y_train_ = tf.keras.utils.to_categorical(y_train)\n",
        "y_valid_ = tf.keras.utils.to_categorical(y_validation)"
      ],
      "metadata": {
        "execution": {
          "iopub.status.busy": "2022-11-24T12:32:01.620453Z",
          "iopub.execute_input": "2022-11-24T12:32:01.621383Z",
          "iopub.status.idle": "2022-11-24T12:32:01.632334Z",
          "shell.execute_reply.started": "2022-11-24T12:32:01.621320Z",
          "shell.execute_reply": "2022-11-24T12:32:01.630381Z"
        },
        "trusted": true,
        "id": "iijqg2ckEYt5"
      },
      "execution_count": null,
      "outputs": []
    },
    {
      "cell_type": "markdown",
      "source": [
        "## Model Building\n",
        "\n",
        "#### Defining batch size, number epochs (iterations) and the steps in each epoch"
      ],
      "metadata": {
        "id": "Tc_63rcAEYt5"
      }
    },
    {
      "cell_type": "code",
      "source": [
        "# defining batch size, number epochs (iterations) and the steps in each epoch\n",
        "\n",
        "batch = 70\n",
        "epochs = 25\n",
        "\n",
        "steps_per_epoch = x_train.shape[0]//batch\n",
        "steps_per_epoch"
      ],
      "metadata": {
        "execution": {
          "iopub.status.busy": "2022-11-24T12:32:01.634918Z",
          "iopub.execute_input": "2022-11-24T12:32:01.635661Z",
          "iopub.status.idle": "2022-11-24T12:32:01.648023Z",
          "shell.execute_reply.started": "2022-11-24T12:32:01.635597Z",
          "shell.execute_reply": "2022-11-24T12:32:01.646169Z"
        },
        "trusted": true,
        "id": "hhvWfHjUEYt5"
      },
      "execution_count": null,
      "outputs": []
    },
    {
      "cell_type": "markdown",
      "source": [
        "### Data augmentation"
      ],
      "metadata": {
        "id": "MT86USgOEYt5"
      }
    },
    {
      "cell_type": "code",
      "source": [
        "datagen = tf.keras.preprocessing.image.ImageDataGenerator(rotation_range=10,\n",
        "                             zoom_range=0.15\n",
        "                            )\n",
        "\n",
        "# setting data generator to be ready for model\n",
        "\n",
        "image_generator = datagen.flow(x_train, y_train_,\n",
        "                               batch_size=batch,\n",
        "                               seed=seed,\n",
        "                              )"
      ],
      "metadata": {
        "execution": {
          "iopub.status.busy": "2022-11-24T12:32:01.649644Z",
          "iopub.execute_input": "2022-11-24T12:32:01.650104Z",
          "iopub.status.idle": "2022-11-24T12:32:01.856024Z",
          "shell.execute_reply.started": "2022-11-24T12:32:01.650062Z",
          "shell.execute_reply": "2022-11-24T12:32:01.853784Z"
        },
        "trusted": true,
        "id": "9B4mF_4iEYt5"
      },
      "execution_count": null,
      "outputs": []
    },
    {
      "cell_type": "code",
      "source": [
        "print('The Unique digits are :', sorted(pd.unique(y_train)))\n",
        "n = len(pd.unique(y_train))\n",
        "print('There are total',n, 'unique digits')"
      ],
      "metadata": {
        "execution": {
          "iopub.status.busy": "2022-11-24T12:32:01.857932Z",
          "iopub.execute_input": "2022-11-24T12:32:01.858440Z",
          "iopub.status.idle": "2022-11-24T12:32:01.871755Z",
          "shell.execute_reply.started": "2022-11-24T12:32:01.858396Z",
          "shell.execute_reply": "2022-11-24T12:32:01.870093Z"
        },
        "trusted": true,
        "id": "wBE2dcFlEYt5"
      },
      "execution_count": null,
      "outputs": []
    },
    {
      "cell_type": "markdown",
      "source": [
        "### Model"
      ],
      "metadata": {
        "id": "WOouQMqBEYt5"
      }
    },
    {
      "cell_type": "code",
      "source": [
        "# Model Bulding\n",
        "model = models.Sequential([\n",
        "    layers.Conv2D(filters=32, kernel_size=(2, 2), activation='relu', input_shape = (28,28,1)),         # Convolution Layer\n",
        "    layers.Conv2D(32, (4, 4), activation = 'relu'),\n",
        "    layers.BatchNormalization(),\n",
        "    layers.MaxPooling2D(2, 2),\n",
        "\n",
        "    layers.Conv2D(filters=64, kernel_size=(2, 2), activation='relu'),         # Convolution Layer\n",
        "    layers.Conv2D(64, (4, 4), activation = 'relu'),\n",
        "    layers.BatchNormalization(),\n",
        "    layers.MaxPooling2D(2, 2),                                             # MaxPooling\n",
        "\n",
        "    layers.Conv2D(128, (3, 3), activation = 'relu'),\n",
        "    layers.BatchNormalization(),\n",
        "\n",
        "    layers.Flatten(),\n",
        "    layers.Dense(150, activation = tf.nn.relu),     # Hidden layer\n",
        "    layers.Dense(150, activation = tf.nn.relu),      # Hidden layer\n",
        "    layers.Dense(n, activation = tf.nn.softmax)     # Output layer\n",
        "])\n",
        "\n",
        "model.summary()"
      ],
      "metadata": {
        "execution": {
          "iopub.status.busy": "2022-11-24T12:32:01.873623Z",
          "iopub.execute_input": "2022-11-24T12:32:01.874124Z",
          "iopub.status.idle": "2022-11-24T12:32:02.145503Z",
          "shell.execute_reply.started": "2022-11-24T12:32:01.874083Z",
          "shell.execute_reply": "2022-11-24T12:32:02.143990Z"
        },
        "trusted": true,
        "id": "Vz9x0Sz6EYt6"
      },
      "execution_count": null,
      "outputs": []
    },
    {
      "cell_type": "code",
      "source": [
        "# Model Visualised\n",
        "tf.keras.utils.plot_model(model, show_shapes=True, show_dtype=True, show_layer_names=True, expand_nested=True)"
      ],
      "metadata": {
        "execution": {
          "iopub.status.busy": "2022-11-24T12:33:52.029665Z",
          "iopub.execute_input": "2022-11-24T12:33:52.030253Z",
          "iopub.status.idle": "2022-11-24T12:33:52.289348Z",
          "shell.execute_reply.started": "2022-11-24T12:33:52.030204Z",
          "shell.execute_reply": "2022-11-24T12:33:52.287644Z"
        },
        "trusted": true,
        "id": "HaZRz0JQEYt6"
      },
      "execution_count": null,
      "outputs": []
    },
    {
      "cell_type": "markdown",
      "source": [
        "#### Additional parameters to control the training process, avoid overfitting, saving the best model in training, custamize the learning rate etc."
      ],
      "metadata": {
        "id": "6kOIy6sfEYt6"
      }
    },
    {
      "cell_type": "code",
      "source": [
        "lr_rate = 0.0003\n",
        "\n",
        "#Stop training when a monitored metric has stopped improving.\n",
        "early_stopping = tf.keras.callbacks.EarlyStopping(monitor = 'val_accuracy',\n",
        "                                                  patience = 3,\n",
        "                                                  min_delta = 1e-4,\n",
        "                                                  restore_best_weights = True)\n",
        "# save the Keras model or model weights\n",
        "checkpoint_callback = tf.keras.callbacks.ModelCheckpoint(filepath = 'saved_model/best_model_todate',\n",
        "                                                 save_best_only = True,\n",
        "                                                 save_weights_only = True,\n",
        "                                                 monitor='val_accuracy',\n",
        "                                                 mode='max')\n",
        "\n",
        "# terminates training when a NaN loss is encountered\n",
        "tn = tf.keras.callbacks.TerminateOnNaN()\n",
        "\n",
        "'''\n",
        "A LearningRateSchedule that uses an exponential decay schedule.\n",
        "\n",
        "When training a model, it is often useful to lower the learning rate as\n",
        "the training progresses. This schedule applies an exponential decay function\n",
        "to an optimizer step, given a provided initial learning rate.\n",
        "'''\n",
        "scheduler = tf.keras.optimizers.schedules.ExponentialDecay(initial_learning_rate = lr_rate,\n",
        "                                                           decay_steps = steps_per_epoch//4,\n",
        "                                                           decay_rate= 0.80,\n",
        "                                                           staircase=True)\n",
        "# Learning rate scheduler\n",
        "lr_scheduler = tf.keras.callbacks.LearningRateScheduler(scheduler)\n",
        "\n",
        "# Reduce learning rate when a metric has stopped improving\n",
        "lr_plateau = tf.keras.callbacks.ReduceLROnPlateau(monitor = 'val_loss',\n",
        "                                                  factor = 0.1,\n",
        "                                                  patience = 4,\n",
        "                                                  verbose = 3)"
      ],
      "metadata": {
        "execution": {
          "iopub.status.busy": "2022-10-29T06:00:35.843517Z",
          "iopub.execute_input": "2022-10-29T06:00:35.843839Z",
          "iopub.status.idle": "2022-10-29T06:00:35.853753Z",
          "shell.execute_reply.started": "2022-10-29T06:00:35.843811Z",
          "shell.execute_reply": "2022-10-29T06:00:35.851958Z"
        },
        "trusted": true,
        "id": "uVXjZAXHEYt6"
      },
      "execution_count": null,
      "outputs": []
    },
    {
      "cell_type": "markdown",
      "source": [
        "#### Choose an optimizer and loss function for training"
      ],
      "metadata": {
        "id": "P5nT-yS0EYt6"
      }
    },
    {
      "cell_type": "code",
      "source": [
        "loss_object = tf.keras.losses.CategoricalCrossentropy()\n",
        "\n",
        "optimizer = tf.keras.optimizers.Adam(learning_rate=lr_rate)"
      ],
      "metadata": {
        "execution": {
          "iopub.status.busy": "2022-10-29T06:00:35.855987Z",
          "iopub.execute_input": "2022-10-29T06:00:35.856488Z",
          "iopub.status.idle": "2022-10-29T06:00:35.871380Z",
          "shell.execute_reply.started": "2022-10-29T06:00:35.856444Z",
          "shell.execute_reply": "2022-10-29T06:00:35.869565Z"
        },
        "trusted": true,
        "id": "rg4G5zUzEYt6"
      },
      "execution_count": null,
      "outputs": []
    },
    {
      "cell_type": "markdown",
      "source": [
        "#### Compile the model"
      ],
      "metadata": {
        "id": "eOPQanB6EYt6"
      }
    },
    {
      "cell_type": "code",
      "source": [
        "model.compile(optimizer=optimizer,loss=loss_object, metrics=['accuracy'])"
      ],
      "metadata": {
        "execution": {
          "iopub.status.busy": "2022-10-29T06:00:35.873158Z",
          "iopub.execute_input": "2022-10-29T06:00:35.873586Z",
          "iopub.status.idle": "2022-10-29T06:00:35.890837Z",
          "shell.execute_reply.started": "2022-10-29T06:00:35.873546Z",
          "shell.execute_reply": "2022-10-29T06:00:35.889857Z"
        },
        "trusted": true,
        "id": "mAZ4s9KiEYt6"
      },
      "execution_count": null,
      "outputs": []
    },
    {
      "cell_type": "markdown",
      "source": [
        "#### Train the model"
      ],
      "metadata": {
        "id": "zpbAjAreEYt6"
      }
    },
    {
      "cell_type": "code",
      "source": [
        "history = model.fit(image_generator,\n",
        "                    epochs=epochs,\n",
        "                    validation_data=(x_valid, y_valid_),\n",
        "                    steps_per_epoch=steps_per_epoch,\n",
        "                    callbacks = [lr_scheduler, lr_plateau, checkpoint_callback, early_stopping, tn]\n",
        "                   )"
      ],
      "metadata": {
        "execution": {
          "iopub.status.busy": "2022-10-29T06:00:35.892400Z",
          "iopub.execute_input": "2022-10-29T06:00:35.892670Z"
        },
        "trusted": true,
        "id": "HV94qpWTEYt6"
      },
      "execution_count": null,
      "outputs": []
    },
    {
      "cell_type": "markdown",
      "source": [
        "## Model Evaluation"
      ],
      "metadata": {
        "id": "ATKEnMnmEYt6"
      }
    },
    {
      "cell_type": "code",
      "source": [
        "loss, accuracy = model.evaluate(x_valid, y_valid_)\n",
        "print('The accuracy of model on unknown data is',round((accuracy*100),2),'%')"
      ],
      "metadata": {
        "trusted": true,
        "id": "OvLwVxtBEYt6"
      },
      "execution_count": null,
      "outputs": []
    },
    {
      "cell_type": "code",
      "source": [
        "history_dict = history.history\n",
        "history_dict.keys()\n",
        "\n",
        "acc = history_dict['accuracy']                        # Accuracy obtained on training data\n",
        "val_acc = history_dict['val_accuracy']                # Accuracy obtained on Validation data\n",
        "\n",
        "loss = history_dict['loss']                                  # Losses obtained on training data\n",
        "val_loss = history_dict['val_loss']                          # Losses obtained on validation data"
      ],
      "metadata": {
        "trusted": true,
        "id": "4wtvpXHsEYt7"
      },
      "execution_count": null,
      "outputs": []
    },
    {
      "cell_type": "markdown",
      "source": [
        "#### Training and validation loss"
      ],
      "metadata": {
        "id": "Fk8UBttSEYt7"
      }
    },
    {
      "cell_type": "code",
      "source": [
        "epochs = range(1, len(acc) + 1)                              # Epoch = range(1, 10+1)  10 iterations\n",
        "\n",
        "# Training Loss\n",
        "plt.plot(epochs, loss, 'ro', label='Training loss')          # \"ro\" is for \"red dot\"\n",
        "# Validation Loss\n",
        "plt.plot(epochs, val_loss, 'r', label='Validation loss')     # r is for \"solid red line\"\n",
        "\n",
        "plt.title('Training and validation loss')\n",
        "plt.xlabel('Epochs')\n",
        "plt.ylabel('Loss')\n",
        "plt.legend()\n",
        "\n",
        "plt.show()"
      ],
      "metadata": {
        "trusted": true,
        "id": "PrMVSQnOEYt7"
      },
      "execution_count": null,
      "outputs": []
    },
    {
      "cell_type": "markdown",
      "source": [
        "#### Training and validation accuracy"
      ],
      "metadata": {
        "id": "091hsvxXEYt7"
      }
    },
    {
      "cell_type": "code",
      "source": [
        "# Training accuracy\n",
        "plt.plot(epochs, acc, 'go', label='Training acc')                 # \"go\" is for \"green dot\"\n",
        "# Validation accuracy\n",
        "plt.plot(epochs, val_acc, 'g', label='Validation acc')            # g is for \"solid green line\"\n",
        "plt.title('Training and validation accuracy')\n",
        "plt.xlabel('Epochs')\n",
        "plt.ylabel('Accuracy')\n",
        "plt.legend(loc='lower right')\n",
        "\n",
        "plt.show()"
      ],
      "metadata": {
        "trusted": true,
        "id": "VmFvZZ_REYt8"
      },
      "execution_count": null,
      "outputs": []
    },
    {
      "cell_type": "markdown",
      "source": [
        "## Predict the Label\n"
      ],
      "metadata": {
        "id": "X1LDmudyEYt8"
      }
    },
    {
      "cell_type": "code",
      "source": [
        "# Predict the label\n",
        "y_predicted = model.predict(x_valid)\n",
        "\n",
        "# Get the maximum value integer as the output for the predicted value\n",
        "y_predicted_labels = [np.argmax(i) for i in y_predicted]\n",
        "\n",
        "print('Predicted Label :',y_predicted_labels[:10])\n",
        "print('Actual Label    :',y_validation[:10])"
      ],
      "metadata": {
        "trusted": true,
        "id": "T0H9M74KEYt8"
      },
      "execution_count": null,
      "outputs": []
    },
    {
      "cell_type": "markdown",
      "source": [
        "### Confusion matrix"
      ],
      "metadata": {
        "id": "q_5_xa2PEYt8"
      }
    },
    {
      "cell_type": "code",
      "source": [
        "cm = tf.math.confusion_matrix(labels = y_validation, predictions=y_predicted_labels)\n",
        "\n",
        "plt.figure(figsize = (8,5), dpi = 103)\n",
        "sns.heatmap(cm, annot=True, fmt='d')\n",
        "plt.xlabel('Predicted')\n",
        "plt.ylabel('Truth')\n",
        "plt.show()"
      ],
      "metadata": {
        "trusted": true,
        "id": "Flds0A6pEYt8"
      },
      "execution_count": null,
      "outputs": []
    },
    {
      "cell_type": "markdown",
      "source": [
        "### Classification Report"
      ],
      "metadata": {
        "id": "GFcYeJsdEYt8"
      }
    },
    {
      "cell_type": "code",
      "source": [
        "print(\"Classification Report: \\n\", classification_report(y_validation, y_predicted_labels))"
      ],
      "metadata": {
        "trusted": true,
        "id": "R8s5hYW7EYt8"
      },
      "execution_count": null,
      "outputs": []
    },
    {
      "cell_type": "markdown",
      "source": [
        "### Verify predictions"
      ],
      "metadata": {
        "id": "sLtBFd4dEYt9"
      }
    },
    {
      "cell_type": "code",
      "source": [
        "def plot_image(i, predictions_array, true_label, img):\n",
        "    true_label, img = true_label[i], img[i]\n",
        "    plt.grid(False)\n",
        "    plt.xticks([])\n",
        "    plt.yticks([])\n",
        "\n",
        "    plt.imshow(img, cmap=plt.cm.binary)\n",
        "\n",
        "    predicted_label = np.argmax(predictions_array)\n",
        "    if predicted_label == true_label:\n",
        "        color = 'green'\n",
        "    else:\n",
        "        color = 'red'\n",
        "    plt.xlabel(\"Pred: {} ({:2.0f}%) \\n Truth : {}\".format(predicted_label, (100*np.max(predictions_array)),\n",
        "                                                          true_label), color=color)\n",
        "\n",
        "def plot_value_array(i, predictions_array, true_labels):\n",
        "    true_label = true_labels[i]\n",
        "    plt.grid(False)\n",
        "    plt.xticks(range(10))\n",
        "\n",
        "    plt.yticks([])\n",
        "    thisplot = plt.bar(range(10), predictions_array, color=\"#777777\")\n",
        "    plt.ylim([0, 1])\n",
        "    predicted_label = np.argmax(predictions_array)\n",
        "\n",
        "\n",
        "    thisplot[predicted_label].set_color('red')\n",
        "    thisplot[true_label].set_color('blue')"
      ],
      "metadata": {
        "trusted": true,
        "id": "Wn2YFlhzEYt9"
      },
      "execution_count": null,
      "outputs": []
    },
    {
      "cell_type": "code",
      "source": [
        "# Plot the first X test images, their predicted labels, and the true labels.\n",
        "# Color correct predictions in blue and incorrect predictions in red.\n",
        "num_rows = 4\n",
        "num_cols = 4\n",
        "num_images = num_rows*num_cols\n",
        "plt.figure(figsize=(2*2*num_cols, 2*num_rows), dpi = 523)\n",
        "for i in range(num_images):\n",
        "    plt.subplot(num_rows, 2*num_cols, 2*i+1)\n",
        "    plot_image(i, y_predicted[i], y_validation, x_valid)\n",
        "    plt.subplot(num_rows, 2*num_cols, 2*i+2)\n",
        "    plot_value_array(i, y_predicted[i], y_validation)\n",
        "plt.tight_layout()\n",
        "plt.show()"
      ],
      "metadata": {
        "trusted": true,
        "id": "yf10eQvyEYt9"
      },
      "execution_count": null,
      "outputs": []
    },
    {
      "cell_type": "markdown",
      "source": [
        "### Check the wrong predictions"
      ],
      "metadata": {
        "id": "yX1NR9e7EYt9"
      }
    },
    {
      "cell_type": "code",
      "source": [
        "#predicted_label = np.argmax(predictions_array)\n",
        "count = 0\n",
        "wrong_predictions = []\n",
        "for i in range(len(y_validation)):\n",
        "    predicted_label = np.argmax(y_predicted[i])\n",
        "    if predicted_label != y_validation[i]:\n",
        "        count +=1\n",
        "        wrong_predictions.append(i)\n",
        "print('There are',count,'wrong predictions in test datasets')\n",
        "print('Wrong predicted indices :\\n',wrong_predictions)"
      ],
      "metadata": {
        "trusted": true,
        "id": "AVsx_SPFEYt-"
      },
      "execution_count": null,
      "outputs": []
    },
    {
      "cell_type": "code",
      "source": [
        "num_rows = 4\n",
        "num_cols = 4\n",
        "num_images = num_rows*num_cols\n",
        "plt.figure(figsize=(2*2*num_cols, 2*num_rows), dpi = 723)\n",
        "\n",
        "for ix in range(num_images):\n",
        "    i = wrong_predictions[ix]\n",
        "\n",
        "    plt.subplot(num_rows, 2*num_cols, 2*ix+1)\n",
        "    plot_image(i, y_predicted[i], y_validation, x_valid)\n",
        "    plt.subplot(num_rows, 2*num_cols, 2*ix+2)\n",
        "    plot_value_array(i, y_predicted[i], y_validation)\n",
        "plt.tight_layout()\n",
        "plt.show()"
      ],
      "metadata": {
        "trusted": true,
        "id": "Aei15Mw5EYt-"
      },
      "execution_count": null,
      "outputs": []
    },
    {
      "cell_type": "markdown",
      "source": [
        "## Submission"
      ],
      "metadata": {
        "id": "KEol1E_BEYt-"
      }
    },
    {
      "cell_type": "code",
      "source": [
        "predict = model.predict(x_test)\n",
        "labels = [np.argmax(i) for i in predict]\n",
        "\n",
        "labels[:5]"
      ],
      "metadata": {
        "trusted": true,
        "id": "Tgnb1bsFEYt-"
      },
      "execution_count": null,
      "outputs": []
    },
    {
      "cell_type": "code",
      "source": [
        "plt.figure(figsize=(20,7), dpi = 523)\n",
        "for i in range(30):\n",
        "    plt.subplot(3,10,i+1)\n",
        "    plt.xticks([])\n",
        "    plt.yticks([])\n",
        "    plt.grid(True)\n",
        "    plt.imshow(x_test[i], cmap=plt.cm.binary)\n",
        "    plt.xlabel(labels[i])                   # Adding label as the value of handwritten digit\n",
        "plt.show()"
      ],
      "metadata": {
        "trusted": true,
        "id": "gxCD4ZPIEYt-"
      },
      "execution_count": null,
      "outputs": []
    },
    {
      "cell_type": "markdown",
      "source": [
        "### Submission"
      ],
      "metadata": {
        "id": "WVpzB9I_EYt-"
      }
    },
    {
      "cell_type": "code",
      "source": [
        "submission = pd.read_csv('/kaggle/input/digit-recognizer/sample_submission.csv')\n",
        "submission['Label']=labels\n",
        "submission.to_csv('submission.csv', index = False)\n",
        "pd.read_csv('submission.csv')"
      ],
      "metadata": {
        "trusted": true,
        "id": "-kcOXvLvEYt-"
      },
      "execution_count": null,
      "outputs": []
    }
  ]
}